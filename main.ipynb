{
 "cells": [
  {
   "cell_type": "code",
   "execution_count": null,
   "id": "d611cc9c",
   "metadata": {},
   "outputs": [],
   "source": [
    "import pandas as pd\n",
    "import numpy as np\n",
    "from sklearn.model_selection import train_test_split\n",
    "from sklearn.ensemble import RandomForestRegressor\n",
    "import pickle\n",
    "df=pd.read_csv('train.csv')\n",
    "df=df.loc[:,[\"OverallQual\", \"GrLivArea\", \"GarageCars\", \"GarageArea\", \"TotalBsmtSF\", \"1stFlrSF\", \"FullBath\", \"TotRmsAbvGrd\", \"YearBuilt\", \"YearRemodAdd\",\"SalePrice\"]]\n",
    "x=df.iloc[:,:-1]\n",
    "y=np.log1p(df['SalePrice'])\n",
    "xtrain,xtest,ytrain,ytest=train_test_split(x,y,test_size=0.1,random_state=1)\n",
    "dtc=RandomForestRegressor()\n",
    "dtc.fit(xtrain,ytrain)\n",
    "with open('model.pkl','wb') as f:\n",
    "    pickle.dump(dtc,f)\n"
   ]
  },
  {
   "cell_type": "code",
   "execution_count": null,
   "id": "8607fc2f",
   "metadata": {},
   "outputs": [],
   "source": []
  },
  {
   "cell_type": "code",
   "execution_count": null,
   "id": "97646297",
   "metadata": {},
   "outputs": [],
   "source": [
    "y"
   ]
  },
  {
   "cell_type": "code",
   "execution_count": null,
   "id": "0ddc8fcf",
   "metadata": {},
   "outputs": [],
   "source": []
  }
 ],
 "metadata": {
  "kernelspec": {
   "display_name": "env (3.13.5)",
   "language": "python",
   "name": "python3"
  },
  "language_info": {
   "codemirror_mode": {
    "name": "ipython",
    "version": 3
   },
   "file_extension": ".py",
   "mimetype": "text/x-python",
   "name": "python",
   "nbconvert_exporter": "python",
   "pygments_lexer": "ipython3",
   "version": "3.13.5"
  }
 },
 "nbformat": 4,
 "nbformat_minor": 5
}
